{
 "cells": [
  {
   "cell_type": "code",
   "execution_count": 3,
   "id": "ecbff2ef",
   "metadata": {},
   "outputs": [
    {
     "data": {
      "text/plain": [
       "(3+0j)"
      ]
     },
     "execution_count": 3,
     "metadata": {},
     "output_type": "execute_result"
    }
   ],
   "source": [
    "a=3\n",
    "type(a)\n",
    "b=complex(a)\n",
    "b"
   ]
  },
  {
   "cell_type": "code",
   "execution_count": 10,
   "id": "d7d5ffbc",
   "metadata": {
    "scrolled": true
   },
   "outputs": [
    {
     "name": "stdout",
     "output_type": "stream",
     "text": [
      "Addition of 10112 and 20222 is 204484864\n",
      "Addition of x=10112 and y=20222 is addition=204484864\n"
     ]
    }
   ],
   "source": [
    "x=10112\n",
    "y=20222\n",
    "addition= x * y\n",
    "print(\"Addition of\",x, \"and\", y ,\"is\", addition)\n",
    "print(f\"Addition of x={x} and y={y} is addition={addition}\")"
   ]
  },
  {
   "cell_type": "code",
   "execution_count": null,
   "id": "1845c691",
   "metadata": {},
   "outputs": [],
   "source": [
    "def cricket_players():\n",
    "    global player2   # local variable > global variable\n",
    "    player2 = 'Rohit Sharma'\n",
    "    \n",
    "cricket_players()\n",
    "print(f'Player 2 == ',player2)"
   ]
  }
 ],
 "metadata": {
  "kernelspec": {
   "display_name": "Python 3",
   "language": "python",
   "name": "python3"
  },
  "language_info": {
   "codemirror_mode": {
    "name": "ipython",
    "version": 3
   },
   "file_extension": ".py",
   "mimetype": "text/x-python",
   "name": "python",
   "nbconvert_exporter": "python",
   "pygments_lexer": "ipython3",
   "version": "3.8.8"
  }
 },
 "nbformat": 4,
 "nbformat_minor": 5
}
